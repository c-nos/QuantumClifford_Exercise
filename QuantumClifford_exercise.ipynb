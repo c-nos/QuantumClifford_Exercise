{
 "cells": [
  {
   "cell_type": "markdown",
   "id": "e799af5e",
   "metadata": {},
   "source": [
    "The following exercise is to create a test function that calculates the inner product of a noisy stabilizer state with another stabilizer state, and then calculates the derivative of the inner product with respect to a noise probability `p`. The exercise utilizes the `QuantumClifford` and `StochasticAD` packages."
   ]
  },
  {
   "cell_type": "code",
   "execution_count": 1,
   "id": "00081c6f",
   "metadata": {},
   "outputs": [
    {
     "name": "stderr",
     "output_type": "stream",
     "text": [
      "\u001b[32m\u001b[1m    Updating\u001b[22m\u001b[39m registry at `~/.julia/registries/General.toml`\n",
      "\u001b[32m\u001b[1m   Resolving\u001b[22m\u001b[39m package versions...\n",
      "\u001b[32m\u001b[1m  No Changes\u001b[22m\u001b[39m to `~/.julia/environments/v1.8/Project.toml`\n",
      "\u001b[32m\u001b[1m  No Changes\u001b[22m\u001b[39m to `~/.julia/environments/v1.8/Manifest.toml`\n",
      "\u001b[32m\u001b[1m   Resolving\u001b[22m\u001b[39m package versions...\n",
      "\u001b[32m\u001b[1m  No Changes\u001b[22m\u001b[39m to `~/.julia/environments/v1.8/Project.toml`\n",
      "\u001b[32m\u001b[1m  No Changes\u001b[22m\u001b[39m to `~/.julia/environments/v1.8/Manifest.toml`\n",
      "\u001b[32m\u001b[1m   Resolving\u001b[22m\u001b[39m package versions...\n",
      "\u001b[32m\u001b[1m  No Changes\u001b[22m\u001b[39m to `~/.julia/environments/v1.8/Project.toml`\n",
      "\u001b[32m\u001b[1m  No Changes\u001b[22m\u001b[39m to `~/.julia/environments/v1.8/Manifest.toml`\n",
      "\u001b[32m\u001b[1m   Resolving\u001b[22m\u001b[39m package versions...\n",
      "\u001b[32m\u001b[1m  No Changes\u001b[22m\u001b[39m to `~/.julia/environments/v1.8/Project.toml`\n",
      "\u001b[32m\u001b[1m  No Changes\u001b[22m\u001b[39m to `~/.julia/environments/v1.8/Manifest.toml`\n"
     ]
    }
   ],
   "source": [
    "using Pkg\n",
    "\n",
    "# add `QuantumClifford` package\n",
    "Pkg.add(\"QuantumClifford\")\n",
    "using QuantumClifford\n",
    "\n",
    "# add `StochasticAD` package\n",
    "Pkg.add(\"StochasticAD\")\n",
    "using StochasticAD\n",
    "\n",
    "# `Distributions` package\n",
    "Pkg.add(\"Distributions\")\n",
    "using Distributions\n",
    "\n",
    "# `LinearAlgebra` package\n",
    "Pkg.add(\"LinearAlgebra\")\n",
    "using LinearAlgebra"
   ]
  },
  {
   "cell_type": "code",
   "execution_count": 2,
   "id": "5215e6d2",
   "metadata": {},
   "outputs": [
    {
     "data": {
      "text/plain": [
       "consistent_stab (generic function with 1 method)"
      ]
     },
     "execution_count": 2,
     "metadata": {},
     "output_type": "execute_result"
    }
   ],
   "source": [
    "function consistent_stab(a)\n",
    "    #= A function to test if a given stabilizer tableau represents a unique \n",
    "       quantum state. Not checking for Hermiticity here, can add this in an \n",
    "       updated version of the function =#\n",
    "    \n",
    "    # First check the mutual commutivity of rows:\n",
    "    \n",
    "    for i in 1:(nqubits(a) - 1)\n",
    "        for j in (i+1):nqubits(a)\n",
    "            if comm(a[i],a[j]) != 0\n",
    "                return \"Error: not all generators commute\"\n",
    "            end\n",
    "        end\n",
    "    end\n",
    "    \n",
    "    # Then check if the rank is full (determining that the rows are \n",
    "    # all independent and that the state is uniquely determined):\n",
    "    \n",
    "    if canonicalize!(a, ranks=true)[3] != nqubits(a)\n",
    "        return \"Error: state is not uniquely determined\"\n",
    "    end\n",
    "    \n",
    "return nothing\n",
    "end"
   ]
  },
  {
   "cell_type": "code",
   "execution_count": 3,
   "id": "7bdf2b4d",
   "metadata": {
    "scrolled": false
   },
   "outputs": [
    {
     "data": {
      "text/plain": [
       "NoisyStabilizerOverlap (generic function with 3 methods)"
      ]
     },
     "execution_count": 3,
     "metadata": {},
     "output_type": "execute_result"
    }
   ],
   "source": [
    "function NoisyStabilizerOverlap(p, s1 = ghz(), s2 = one(Stabilizer, nqubits(s1)))\n",
    "    # check if the s1 is a true stabilizer state; if not, print error message\n",
    "    if consistent_stab(s1) != nothing\n",
    "        return \"Error: $s1 does not represent a consistent stabilizer state\"\n",
    "    end\n",
    "    \n",
    "    # check if the s2 is a true stabilizer state; if not, print error message\n",
    "    if consistent_stab(s2) != nothing\n",
    "        return \"Error: $s2 does not represent a consistent stabilizer state\"\n",
    "    end\n",
    "    \n",
    "    # apply iid depolarization noise, and then calculate the overlap between \n",
    "    # the noisy s1 and s2\n",
    "    function depolarization_noise(g)\n",
    "        temp = copy(s1)\n",
    "        apply!(temp, NoiseOpAll(UnbiasedUncorrelatedNoise(g/3)))\n",
    "        overlap = dot(temp, s2)\n",
    "        return overlap\n",
    "    end\n",
    "    \n",
    "    # apply iid depolarization noise and calculate overlap many times \n",
    "    # to get derivative estimate\n",
    "    samples = [derivative_estimate(depolarization_noise, p) for i in 1:1000] #samples\n",
    "    derivative = mean(samples)\n",
    "    uncertainty = std(samples) / sqrt(1000)\n",
    "    println(\"derivative of 𝔼[dot(s1,s2)] = $derivative ± $uncertainty\")\n",
    "end"
   ]
  },
  {
   "cell_type": "markdown",
   "id": "d510ffd0",
   "metadata": {},
   "source": [
    "We can now apply the `NoisyStabilizerOverlap` function for several different values of the noise probability `p` and see how the derivative is modified:"
   ]
  },
  {
   "cell_type": "code",
   "execution_count": 5,
   "id": "39590d90",
   "metadata": {},
   "outputs": [
    {
     "name": "stdout",
     "output_type": "stream",
     "text": [
      "derivative of 𝔼[dot(s1,s2)] = 0.0 ± 0.0\n",
      "derivative of 𝔼[dot(s1,s2)] = 0.0 ± 0.0\n",
      "derivative of 𝔼[dot(s1,s2)] = 0.0 ± 0.0\n",
      "derivative of 𝔼[dot(s1,s2)] = 0.0 ± 0.0\n",
      "derivative of 𝔼[dot(s1,s2)] = 0.0 ± 0.0\n",
      "derivative of 𝔼[dot(s1,s2)] = 0.0 ± 0.0\n",
      "derivative of 𝔼[dot(s1,s2)] = 0.0 ± 0.0\n",
      "derivative of 𝔼[dot(s1,s2)] = 0.0 ± 0.0\n",
      "derivative of 𝔼[dot(s1,s2)] = 0.0 ± 0.0\n",
      "derivative of 𝔼[dot(s1,s2)] = 0.0 ± 0.0\n",
      "derivative of 𝔼[dot(s1,s2)] = 0.0 ± 0.0\n",
      "derivative of 𝔼[dot(s1,s2)] = 0.0 ± 0.0\n",
      "derivative of 𝔼[dot(s1,s2)] = 0.0 ± 0.0\n",
      "derivative of 𝔼[dot(s1,s2)] = 0.0 ± 0.0\n",
      "derivative of 𝔼[dot(s1,s2)] = 0.0 ± 0.0\n",
      "derivative of 𝔼[dot(s1,s2)] = 0.0 ± 0.0\n",
      "derivative of 𝔼[dot(s1,s2)] = 0.0 ± 0.0\n",
      "derivative of 𝔼[dot(s1,s2)] = 0.0 ± 0.0\n",
      "derivative of 𝔼[dot(s1,s2)] = 0.0 ± 0.0\n",
      "derivative of 𝔼[dot(s1,s2)] = 0.0 ± 0.0\n",
      "derivative of 𝔼[dot(s1,s2)] = 0.0 ± 0.0\n",
      "derivative of 𝔼[dot(s1,s2)] = 0.0 ± 0.0\n",
      "derivative of 𝔼[dot(s1,s2)] = 0.0 ± 0.0\n",
      "derivative of 𝔼[dot(s1,s2)] = 0.0 ± 0.0\n",
      "derivative of 𝔼[dot(s1,s2)] = 0.0 ± 0.0\n",
      "derivative of 𝔼[dot(s1,s2)] = 0.0 ± 0.0\n",
      "derivative of 𝔼[dot(s1,s2)] = 0.0 ± 0.0\n",
      "derivative of 𝔼[dot(s1,s2)] = 0.0 ± 0.0\n",
      "derivative of 𝔼[dot(s1,s2)] = 0.0 ± 0.0\n",
      "derivative of 𝔼[dot(s1,s2)] = 0.0 ± 0.0\n",
      "derivative of 𝔼[dot(s1,s2)] = 0.0 ± 0.0\n",
      "derivative of 𝔼[dot(s1,s2)] = 0.0 ± 0.0\n",
      "derivative of 𝔼[dot(s1,s2)] = 0.0 ± 0.0\n",
      "derivative of 𝔼[dot(s1,s2)] = 0.0 ± 0.0\n",
      "derivative of 𝔼[dot(s1,s2)] = 0.0 ± 0.0\n",
      "derivative of 𝔼[dot(s1,s2)] = 0.0 ± 0.0\n",
      "derivative of 𝔼[dot(s1,s2)] = 0.0 ± 0.0\n",
      "derivative of 𝔼[dot(s1,s2)] = 0.0 ± 0.0\n",
      "derivative of 𝔼[dot(s1,s2)] = 0.0 ± 0.0\n",
      "derivative of 𝔼[dot(s1,s2)] = 0.0 ± 0.0\n",
      "derivative of 𝔼[dot(s1,s2)] = 0.0 ± 0.0\n",
      "derivative of 𝔼[dot(s1,s2)] = 0.0 ± 0.0\n",
      "derivative of 𝔼[dot(s1,s2)] = 0.0 ± 0.0\n",
      "derivative of 𝔼[dot(s1,s2)] = 0.0 ± 0.0\n",
      "derivative of 𝔼[dot(s1,s2)] = 0.0 ± 0.0\n",
      "derivative of 𝔼[dot(s1,s2)] = 0.0 ± 0.0\n",
      "derivative of 𝔼[dot(s1,s2)] = 0.0 ± 0.0\n",
      "derivative of 𝔼[dot(s1,s2)] = 0.0 ± 0.0\n",
      "derivative of 𝔼[dot(s1,s2)] = 0.0 ± 0.0\n",
      "derivative of 𝔼[dot(s1,s2)] = 0.0 ± 0.0\n"
     ]
    }
   ],
   "source": [
    "s1 = random_stabilizer(9)\n",
    "s2 = random_stabilizer(9)\n",
    "\n",
    "for i in 1:50\n",
    "    NoisyStabilizerOverlap(.02*i,s1,s2)\n",
    "end"
   ]
  },
  {
   "cell_type": "markdown",
   "id": "2e08470d",
   "metadata": {},
   "source": [
    "We can see that after trying the `NoisyStabilizerOverlap` function for many different values of the probability for iid depolarization noise, the derivative of the overlap always comes out to 0. I think there is some issue with how the `StochasticAD` handles my implementation of the inner product with random noise which does not implement the propagation of the $ \\epsilon $ parameter. I have tried many different variations without success, including applying simple iid bitflip noise by cycling through a random variable `rand(Bernoulli(p),nqubit(s1))` and flipping the bit when a `1` occurs in the random variable via an `if` statement. But this did not work with the `derivative_estimate()` or `stochastic_triple()` functions and gave error messages. According to the `StochasticAD` documentation, it does not support randomness generated by `if` statements with discrete random input. I tried other variations for bitflips bypassing applying the bitflips via the `if` statement logic, but these got errors as well when interacting with `derivative_estimate()` or `stochastic_triple()`. Below we show another attempt to try to get the `stochastic_triple` to interact with the inner product as we would hope while avoiding the `if` statement logic:"
   ]
  },
  {
   "cell_type": "code",
   "execution_count": 6,
   "id": "768b2147",
   "metadata": {},
   "outputs": [
    {
     "data": {
      "text/plain": [
       "noisyoverlap (generic function with 1 method)"
      ]
     },
     "execution_count": 6,
     "metadata": {},
     "output_type": "execute_result"
    }
   ],
   "source": [
    "function noisyoverlap(p)\n",
    "\n",
    "    function bitflips(p) #generates iid bitflips with probability p\n",
    "    index_list = zeros(nqubits(s1)+1)\n",
    "    for i in 1:nqubits(s1)\n",
    "        index_list[i+1] = index_list[i] + rand(Bernoulli(p))\n",
    "    end\n",
    "    final = unique(index_list)\n",
    "    return final[final .> 0] # indices of qubits to be flipped\n",
    "    end\n",
    "\n",
    "    temp = copy(s1)\n",
    "    for item in bitflips(p)\n",
    "        apply!(temp,sX(item))\n",
    "    end\n",
    "    final = dot(temp,s2)\n",
    "    return final\n",
    "end"
   ]
  },
  {
   "cell_type": "markdown",
   "id": "43180917",
   "metadata": {},
   "source": [
    "The following call of `stochastic_triple(noisyoverlap,.2)` will give an error:"
   ]
  },
  {
   "cell_type": "code",
   "execution_count": 7,
   "id": "8001a17f",
   "metadata": {
    "scrolled": true
   },
   "outputs": [
    {
     "ename": "LoadError",
     "evalue": "MethodError: no method matching Float64(::StochasticAD.StochasticTriple{StochasticAD.Tag{typeof(noisyoverlap), Float64}, Float64, StochasticAD.PrunedFIsModule.PrunedFIs{Float64}})\n\u001b[0mClosest candidates are:\n\u001b[0m  (::Type{T})(::Real, \u001b[91m::RoundingMode\u001b[39m) where T<:AbstractFloat at rounding.jl:200\n\u001b[0m  (::Type{T})(::T) where T<:Number at boot.jl:772\n\u001b[0m  (::Type{T})(\u001b[91m::AbstractChar\u001b[39m) where T<:Union{AbstractChar, Number} at char.jl:50\n\u001b[0m  ...",
     "output_type": "error",
     "traceback": [
      "MethodError: no method matching Float64(::StochasticAD.StochasticTriple{StochasticAD.Tag{typeof(noisyoverlap), Float64}, Float64, StochasticAD.PrunedFIsModule.PrunedFIs{Float64}})\n\u001b[0mClosest candidates are:\n\u001b[0m  (::Type{T})(::Real, \u001b[91m::RoundingMode\u001b[39m) where T<:AbstractFloat at rounding.jl:200\n\u001b[0m  (::Type{T})(::T) where T<:Number at boot.jl:772\n\u001b[0m  (::Type{T})(\u001b[91m::AbstractChar\u001b[39m) where T<:Union{AbstractChar, Number} at char.jl:50\n\u001b[0m  ...",
      "",
      "Stacktrace:",
      "  [1] convert(#unused#::Type{Float64}, x::StochasticAD.StochasticTriple{StochasticAD.Tag{typeof(noisyoverlap), Float64}, Float64, StochasticAD.PrunedFIsModule.PrunedFIs{Float64}})",
      "    @ Base ./number.jl:7",
      "  [2] setindex!(A::Vector{Float64}, x::StochasticAD.StochasticTriple{StochasticAD.Tag{typeof(noisyoverlap), Float64}, Float64, StochasticAD.PrunedFIsModule.PrunedFIs{Float64}}, i1::Int64)",
      "    @ Base ./array.jl:966",
      "  [3] (::var\"#bitflips#4\")(p::StochasticAD.StochasticTriple{StochasticAD.Tag{typeof(noisyoverlap), Float64}, Float64, StochasticAD.PrunedFIsModule.PrunedFIs{Float64}})",
      "    @ Main ./In[6]:6",
      "  [4] noisyoverlap(p::StochasticAD.StochasticTriple{StochasticAD.Tag{typeof(noisyoverlap), Float64}, Float64, StochasticAD.PrunedFIsModule.PrunedFIs{Float64}})",
      "    @ Main ./In[6]:13",
      "  [5] stochastic_triple_direction(f::typeof(noisyoverlap), p::Float64, direction::Float64; backend::PrunedFIsBackend)",
      "    @ StochasticAD ~/.julia/packages/StochasticAD/IzUbu/src/stochastic_triple.jl:180",
      "  [6] stochastic_triple_direction(f::Function, p::Float64, direction::Float64)",
      "    @ StochasticAD ~/.julia/packages/StochasticAD/IzUbu/src/stochastic_triple.jl:173",
      "  [7] (::StochasticAD.var\"#76#79\"{Base.Pairs{Symbol, Union{}, Tuple{}, NamedTuple{(), Tuple{}}}, typeof(noisyoverlap), Float64, Int64})(perturbed_index::Int64)",
      "    @ StochasticAD ~/.julia/packages/StochasticAD/IzUbu/src/stochastic_triple.jl:226",
      "  [8] #8",
      "    @ ~/.julia/packages/StochasticAD/IzUbu/src/prelude.jl:50 [inlined]",
      "  [9] (::Functors.ExcludeWalk{Functors.DefaultWalk, StochasticAD.var\"#8#9\"{StochasticAD.var\"#76#79\"{Base.Pairs{Symbol, Union{}, Tuple{}, NamedTuple{(), Tuple{}}}, typeof(noisyoverlap), Float64, Int64}}, typeof(Functors.isleaf)})(::Function, ::Int64)",
      "    @ Functors ~/.julia/packages/Functors/Eo1VN/src/walks.jl:92",
      " [10] fmap(::Functors.ExcludeWalk{Functors.DefaultWalk, StochasticAD.var\"#8#9\"{StochasticAD.var\"#76#79\"{Base.Pairs{Symbol, Union{}, Tuple{}, NamedTuple{(), Tuple{}}}, typeof(noisyoverlap), Float64, Int64}}, typeof(Functors.isleaf)}, ::Function, ::Int64)",
      "    @ Functors ~/.julia/packages/Functors/Eo1VN/src/maps.jl:7",
      " [11] fmap(::Function, ::Int64; exclude::Function, walk::Functors.DefaultWalk, cache::Nothing, prune::Functors.NoKeyword)",
      "    @ Functors ~/.julia/packages/Functors/Eo1VN/src/maps.jl:18",
      " [12] structural_map(::Function, ::Int64, ::Vararg{Any})",
      "    @ StochasticAD ~/.julia/packages/StochasticAD/IzUbu/src/prelude.jl:50",
      " [13] stochastic_triple(f::Function, p::Float64; direction::Nothing, kwargs::Base.Pairs{Symbol, Union{}, Tuple{}, NamedTuple{(), Tuple{}}})",
      "    @ StochasticAD ~/.julia/packages/StochasticAD/IzUbu/src/stochastic_triple.jl:228",
      " [14] stochastic_triple(f::Function, p::Float64)",
      "    @ StochasticAD ~/.julia/packages/StochasticAD/IzUbu/src/stochastic_triple.jl:210",
      " [15] top-level scope",
      "    @ In[7]:1"
     ]
    }
   ],
   "source": [
    "stochastic_triple(noisyoverlap,.2)"
   ]
  },
  {
   "cell_type": "markdown",
   "id": "7749f88f",
   "metadata": {},
   "source": [
    "However, we can say in either the case of bitflip noise or depolariation noise, that these types of noise simply change the signs of some of the generators of a stabilizer state, as conjugation of a Pauli operator by other, different Pauli operators simply changes the sign. If two stabilizer states $S(\\ket{\\phi}),S(\\ket{\\psi})$ share a common generator but with opposite signs, their inner product is $0$, and otherwise is $2^{(-s/2)}$, where $s$ is the minimum, over all sets of generators $ { \\{P_1, ..., P_n\\}} $ for $ S(\\ket{\\phi}) $ and $ { \\{Q_1, ..., Q_n\\}} $ for $ S(\\ket{\\psi}) $, of the different $ i $ values where $ Q_i \\neq P_i $. So (roughly), if $p$ varies, we may expect the value of the inner product to change as there are more or less bitflips, thereby in principle allowing for a non-zero value of the derivative `d𝔼[dot(s1,s2)]/dp`. So this would be nice to fix....."
   ]
  }
 ],
 "metadata": {
  "kernelspec": {
   "display_name": "Julia 1.8.5",
   "language": "julia",
   "name": "julia-1.8"
  },
  "language_info": {
   "file_extension": ".jl",
   "mimetype": "application/julia",
   "name": "julia",
   "version": "1.8.5"
  }
 },
 "nbformat": 4,
 "nbformat_minor": 5
}
